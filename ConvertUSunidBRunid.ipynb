{
 "cells": [
  {
   "cell_type": "code",
   "execution_count": 8,
   "id": "a935336c",
   "metadata": {},
   "outputs": [],
   "source": [
    "##################### Início da função USunid_BRunid #######################################################\n",
    "\n",
    "def USunid_BRunid(lista):\n",
    "    lista1 = []\n",
    "    for i in range(1,len(lista)):\n",
    "        '''Criando uma lista de strings de números expressos com ponto no decimal e vírgula no milhar'''\n",
    "        lista1 =['{:,.2f}'.format(lista[i-1]), '{:,.3f}'.format(lista[i])]\n",
    "        '''Convertendo strings de numeros com ponto no decimal e vírgula no milhar para \n",
    "        strings com virgula no decimal e pono no milhar:'''\n",
    "        lista2 = []\n",
    "        for j in range(len(lista1)):\n",
    "            a = lista1[j]\n",
    "            a1 = a.replace(',', 'x') # troca provisoriamente a virgula do milhar para string 'x'\n",
    "            a2 = a1.replace('.', ',') # troca ponto do decimal para vírgula\n",
    "            y= a2.replace('x', '.') # traca o 'x' do milhar para ponto\n",
    "            lista2.append(y)\n",
    "\n",
    "        return lista2\n",
    "\n",
    "################### Fim da função USunid_BRunid #############################################################"
   ]
  },
  {
   "cell_type": "code",
   "execution_count": 9,
   "id": "506badcb",
   "metadata": {},
   "outputs": [
    {
     "data": {
      "text/plain": [
       "['21.050,00', '0,022']"
      ]
     },
     "execution_count": 9,
     "metadata": {},
     "output_type": "execute_result"
    }
   ],
   "source": [
    "################# Exemplo 1 ##################################\n",
    "lista = [21050, 0.02233]\n",
    "USunid_BRunid(lista)\n",
    "##############################################################"
   ]
  },
  {
   "cell_type": "code",
   "execution_count": null,
   "id": "42599318",
   "metadata": {},
   "outputs": [],
   "source": []
  }
 ],
 "metadata": {
  "kernelspec": {
   "display_name": "Python 3 (ipykernel)",
   "language": "python",
   "name": "python3"
  },
  "language_info": {
   "codemirror_mode": {
    "name": "ipython",
    "version": 3
   },
   "file_extension": ".py",
   "mimetype": "text/x-python",
   "name": "python",
   "nbconvert_exporter": "python",
   "pygments_lexer": "ipython3",
   "version": "3.9.7"
  }
 },
 "nbformat": 4,
 "nbformat_minor": 5
}
